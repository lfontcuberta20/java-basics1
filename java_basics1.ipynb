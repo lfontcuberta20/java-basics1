{
  "nbformat": 4,
  "nbformat_minor": 0,
  "metadata": {
    "colab": {
      "provenance": [],
      "private_outputs": true
    },
    "kernelspec": {
      "name": "java",
      "display_name": "java"
    }
  },
  "cells": [
    {
      "cell_type": "markdown",
      "source": [
        " # Java template for Colaboratory notebooks"
      ],
      "metadata": {
        "id": "v9hXfeq_tmoc"
      }
    },
    {
      "cell_type": "code",
      "metadata": {
        "id": "DC4pJkyNfOF1"
      },
      "source": [
        "!apt update -q\n",
        "!apt-get install -q openjdk-11-jdk-headless\n",
        "!curl -L https://github.com/SpencerPark/IJava/releases/download/v1.3.0/ijava-1.3.0.zip -o ijava-kernel.zip\n",
        "!unzip -q ijava-kernel.zip -d ijava-kernel && cd ijava-kernel && python3 install.py --sys-prefix\n",
        "!jupyter kernelspec list"
      ],
      "execution_count": null,
      "outputs": []
    },
    {
      "cell_type": "code",
      "metadata": {
        "id": "bF2jPn3RfpfR"
      },
      "source": [
        "System.out.println(\"Hello World\");\n"
      ],
      "execution_count": null,
      "outputs": []
    },
    {
      "cell_type": "code",
      "metadata": {
        "id": "Y2BVNSNKgkUK"
      },
      "source": [
        "char c = 'a';\n",
        "int n = c;\n",
        "System.out.printf(\"Resultado %d%n\", n);\n",
        "System.out.println(\"Tipo \" + ((Object)n).getClass().getSimpleName());"
      ],
      "execution_count": null,
      "outputs": []
    },
    {
      "cell_type": "code",
      "source": [
        "char c = 'a';\n",
        "short s = (short)c;\n",
        "System.out.printf(\"Resultado %d%n\", n);\n",
        "System.out.println(\"Tipo \" + ((Object)n).getClass().getSimpleName());"
      ],
      "metadata": {
        "id": "1_EVqlj4H50C"
      },
      "execution_count": null,
      "outputs": []
    },
    {
      "cell_type": "code",
      "source": [
        "short s = (short)32000;\n",
        "System.out.printf(\"Resultado %d%n\", s);\n",
        "short p = (short)35000;\n",
        "System.out.printf(\"Resultado %d%n\", p);"
      ],
      "metadata": {
        "id": "UPYrRu7GH-k3"
      },
      "execution_count": null,
      "outputs": []
    },
    {
      "cell_type": "code",
      "source": [
        "var v = 5.0;\n",
        "System.out.println(\"Tipo \" + ((Object)v).getClass().getSimpleName());\n",
        "var v0 = 5;\n",
        "System.out.println(\"Tipo \" + ((Object)v0).getClass().getSimpleName());"
      ],
      "metadata": {
        "id": "-bqNCcHrIDT3"
      },
      "execution_count": null,
      "outputs": []
    },
    {
      "cell_type": "code",
      "source": [
        "var v = 5.0;\n",
        "System.out.println(\"Tipo \" + ((Object)v).getClass().getSimpleName());\n",
        "var v0 = 5;\n",
        "System.out.println(\"Tipo \" + ((Object)v0).getClass().getSimpleName());\n",
        "var v1 = v + v0;\n",
        "System.out.printf(\"Resultado %f%n\", v1);\n",
        "System.out.println(\"Tipo \" + ((Object)v1).getClass().getSimpleName());"
      ],
      "metadata": {
        "id": "dq4Li0bkIG4O"
      },
      "execution_count": null,
      "outputs": []
    },
    {
      "cell_type": "code",
      "source": [
        "char c = 'a';\n",
        "int c1 = 1;\n",
        "System.out.printf(\"Resultado %c y %d%n\", c, c1);"
      ],
      "metadata": {
        "id": "gFuuNVxyIN5G"
      },
      "execution_count": null,
      "outputs": []
    },
    {
      "cell_type": "code",
      "source": [
        "var h = 4 * 4f + (4.0 + 4);\n",
        "float f = h;\n",
        "System.out.printf(\"Resultado %f%n\", f);"
      ],
      "metadata": {
        "id": "P92fj1NTIR4-"
      },
      "execution_count": null,
      "outputs": []
    },
    {
      "cell_type": "code",
      "source": [
        "var h = 4 * 4f + (4.0 + 4);\n",
        "float f = (float)h;\n",
        "System.out.printf(\"Resultado %f%n\", f);"
      ],
      "metadata": {
        "id": "4Qgn21fYIVhm"
      },
      "execution_count": null,
      "outputs": []
    },
    {
      "cell_type": "code",
      "source": [
        "byte b0 = 4, b1 = -4, b2 = 12;\n",
        "    boolean bol1 = b0 == b2 / 3;\n",
        "    System.out.printf(\"Resultado %b %n\", bol1);"
      ],
      "metadata": {
        "id": "xh2lgVDLIYAW"
      },
      "execution_count": null,
      "outputs": []
    },
    {
      "cell_type": "code",
      "source": [
        "byte b0 = 4, b1 = -4, b2 = 12;\n",
        "    boolean bol2 = b0 + b1;\n",
        "    System.out.printf(\"Resultado %b %n\", bol2);"
      ],
      "metadata": {
        "id": "qzxlUPzHIaE-"
      },
      "execution_count": null,
      "outputs": []
    },
    {
      "cell_type": "code",
      "source": [
        "byte b0 = 4, b1 = -4, b2 = 12;\n",
        "    boolean bol3 = b0 + b1 > b2;\n",
        "    System.out.printf(\"Resultado %b %n\", bol3);"
      ],
      "metadata": {
        "id": "7Q6A2eiEIdEQ"
      },
      "execution_count": null,
      "outputs": []
    }
  ]
}