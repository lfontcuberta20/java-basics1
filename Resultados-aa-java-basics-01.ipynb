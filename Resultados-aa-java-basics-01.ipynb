{
  "cell_type": "code"
    byte b0 = 122; byte b1 = 14;
    int suma = b0 + b1;
    System.out.printf("Resultado %d%n",suma)
}
